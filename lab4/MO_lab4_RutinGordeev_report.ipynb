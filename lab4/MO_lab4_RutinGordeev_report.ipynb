{
 "cells": [
  {
   "cell_type": "markdown",
   "metadata": {},
   "source": [
    "# Лабораторная работа №4. Метод опорных векторов"
   ]
  },
  {
   "cell_type": "markdown",
   "metadata": {},
   "source": [
    "Выполнили: Рутин Василий, Гордеев Станислав"
   ]
  },
  {
   "cell_type": "markdown",
   "metadata": {},
   "source": [
    "Все лабораторные работы доступны по адресу: https://github.com/Omenstudio/ML_IFMO_LABS"
   ]
  },
  {
   "cell_type": "markdown",
   "metadata": {},
   "source": [
    "## 1. Постановка задачи"
   ]
  },
  {
   "cell_type": "markdown",
   "metadata": {},
   "source": [
    "1. Прочитать теоретическую часть\n",
    "2. Описать структуру исходных данных для своего набора:<br>\n",
    "\ta. общие характеристики массива данных: предметная область, количество записей<br>\n",
    "\tb. входные параметры: названия и типы<br>\n",
    "    c. выходной класс: название и значения<br>\n",
    "3. Осуществить ряд экспериментов по классификации, используя SVM с различными параметрами (функции ядра и пр.), и занести результаты в сравнительную таблицу.\n",
    "4. Выбрать оптимальные параметры и сформировать вывод о применимости метода опорных векторов к задаче классификации для своего набора данных."
   ]
  },
  {
   "cell_type": "markdown",
   "metadata": {},
   "source": [
    "## 2. Исходные данные"
   ]
  },
  {
   "cell_type": "markdown",
   "metadata": {},
   "source": [
    "Задача классификации: определение наличия заболевания (диабет) у женщин.<br>\n",
    "Датасет доступен по адресу: https://archive.ics.uci.edu/ml/datasets/Pima+Indians+Diabetes"
   ]
  },
  {
   "cell_type": "markdown",
   "metadata": {},
   "source": [
    "Количество записей: 768<br>\n",
    "Количество атрибутов: 8 плюс класс.<br>\n",
    "Все атрибуты представлены числовыми значениями:\n",
    "1. Количество беременностей (шт.)\n",
    "2. Концентрация плазмы глюкозы (ммоль/л)\n",
    "3. Диастолическое давление (мм. рт. столба)\n",
    "4. Толщина кожной складки (мм.)\n",
    "5. Содержание инсулина (мкЕд/мл)\n",
    "6. Индекс массы тела (кг/м2)\n",
    "7. Предрасположенность по родословной линии (Diabetes pedigree function)\n",
    "8. Возраст (лет)\n",
    "9. Класс: наличие диабета (0, 1)"
   ]
  },
  {
   "cell_type": "markdown",
   "metadata": {},
   "source": [
    "## 3. Ход работы"
   ]
  },
  {
   "cell_type": "markdown",
   "metadata": {},
   "source": [
    "Загружаем датасет."
   ]
  },
  {
   "cell_type": "code",
   "execution_count": 1,
   "metadata": {},
   "outputs": [],
   "source": [
    "import random\n",
    "import numpy as np\n",
    "from sklearn import preprocessing\n",
    "from sklearn.model_selection import train_test_split\n",
    "\n",
    "\n",
    "def load_dataset(split_ratio=None, normalize=True):\n",
    "    dataset_full = np.loadtxt(open(\"../pima-indians-diabetes.data.csv\", \"r\"), delimiter=\",\", skiprows=0, dtype=np.float64)\n",
    "    inputs = dataset_full[:, :-1]\n",
    "    outputs = dataset_full[:, -1]\n",
    "    outputs = outputs.astype(np.int64, copy=False)\n",
    "    if split_ratio is None:\n",
    "        return inputs, outputs, None, None\n",
    "    inputs_train, inputs_test, outputs_train, outputs_test \\\n",
    "        = train_test_split(inputs, outputs, test_size=split_ratio, random_state=random.randint(0, 1000))\n",
    "    if normalize:\n",
    "        std_scale = preprocessing.StandardScaler().fit(inputs_train)\n",
    "        inputs_train = std_scale.transform(inputs_train)\n",
    "        inputs_test = std_scale.transform(inputs_test)\n",
    "    return inputs_train, outputs_train, inputs_test, outputs_test"
   ]
  },
  {
   "cell_type": "markdown",
   "metadata": {},
   "source": [
    "Создаем различные вариации параметров, которые будем тестировать."
   ]
  },
  {
   "cell_type": "code",
   "execution_count": 2,
   "metadata": {},
   "outputs": [],
   "source": [
    "import numpy as np\n",
    "from sklearn.svm import SVC\n",
    "\n",
    "# Чтение датасета\n",
    "inputs_train, outputs_train, inputs_test, outputs_test = load_dataset(split_ratio=.4, normalize=True)\n",
    "#  Варианты\n",
    "kernel_types = ['linear', 'poly', 'rbf', 'sigmoid']\n",
    "penalties = np.arange(.5, 10, 0.5)\n",
    "degrees = np.arange(1, 10, 1)\n",
    "gammas = np.arange(0.05, 1, 0.05)\n",
    "coefs0 = np.arange(0, 1, 0.1)\n",
    "probabilities = [False, True]\n",
    "shrinkings = [False, True]\n",
    "tols = [1e-1, 1e-2, 1e-3, 1e-4]"
   ]
  },
  {
   "cell_type": "markdown",
   "metadata": {},
   "source": [
    "Тестируем различные параметры:"
   ]
  },
  {
   "cell_type": "code",
   "execution_count": 3,
   "metadata": {},
   "outputs": [
    {
     "name": "stdout",
     "output_type": "stream",
     "text": [
      "kernel_types: linear, accuracy: 0.779220779\n",
      "kernel_types: poly, accuracy: 0.750000000\n",
      "kernel_types: rbf, accuracy: 0.772727273\n",
      "kernel_types: sigmoid, accuracy: 0.698051948\n",
      "-------------\n"
     ]
    }
   ],
   "source": [
    "for value in kernel_types:\n",
    "    clf = SVC(kernel=value)\n",
    "    clf.fit(inputs_train, outputs_train)\n",
    "    accuracy = clf.score(inputs_test, outputs_test)\n",
    "    print('kernel_types: {}, accuracy: {:.9f}'.format(value, accuracy))\n",
    "print('-------------')"
   ]
  },
  {
   "cell_type": "markdown",
   "metadata": {},
   "source": [
    "На выбранном датасете наиболее эффективным оказывается линейная функция ядра ПРИ ПРОЧИХ РАВНЫХ. Радиальная базисная чуть хуже (разница в ~0,6%). Полиномиальная и сигмоидная показывают результаты хуже, но они имеют множество настриваемых параметров, нужно исследовать дальше."
   ]
  },
  {
   "cell_type": "code",
   "execution_count": 4,
   "metadata": {},
   "outputs": [
    {
     "name": "stdout",
     "output_type": "stream",
     "text": [
      "penalties: 0.5, accuracy: 0.775974026\n",
      "penalties: 1.0, accuracy: 0.772727273\n",
      "penalties: 1.5, accuracy: 0.772727273\n",
      "penalties: 2.0, accuracy: 0.766233766\n",
      "penalties: 2.5, accuracy: 0.766233766\n",
      "penalties: 3.0, accuracy: 0.750000000\n",
      "penalties: 3.5, accuracy: 0.743506494\n",
      "penalties: 4.0, accuracy: 0.746753247\n",
      "penalties: 4.5, accuracy: 0.743506494\n",
      "penalties: 5.0, accuracy: 0.746753247\n",
      "penalties: 5.5, accuracy: 0.750000000\n",
      "penalties: 6.0, accuracy: 0.753246753\n",
      "penalties: 6.5, accuracy: 0.750000000\n",
      "penalties: 7.0, accuracy: 0.750000000\n",
      "penalties: 7.5, accuracy: 0.750000000\n",
      "penalties: 8.0, accuracy: 0.753246753\n",
      "penalties: 8.5, accuracy: 0.750000000\n",
      "penalties: 9.0, accuracy: 0.746753247\n",
      "penalties: 9.5, accuracy: 0.746753247\n",
      "-------------\n"
     ]
    }
   ],
   "source": [
    "for value in penalties:\n",
    "    clf = SVC(C=value)\n",
    "    clf.fit(inputs_train, outputs_train)\n",
    "    accuracy = clf.score(inputs_test, outputs_test)\n",
    "    print('penalties: {}, accuracy: {:.9f}'.format(value, accuracy))\n",
    "print('-------------')"
   ]
  },
  {
   "cell_type": "markdown",
   "metadata": {},
   "source": [
    "Легко заметить: чем больше параметр penalty, тем меньше точность."
   ]
  },
  {
   "cell_type": "markdown",
   "metadata": {},
   "source": [
    "Протестируем параметр degree, который используется только при полиномиальной функции ядра. "
   ]
  },
  {
   "cell_type": "code",
   "execution_count": 5,
   "metadata": {},
   "outputs": [
    {
     "name": "stdout",
     "output_type": "stream",
     "text": [
      "degrees: 1, accuracy: 0.772727273\n",
      "degrees: 2, accuracy: 0.717532468\n",
      "degrees: 3, accuracy: 0.750000000\n",
      "degrees: 4, accuracy: 0.711038961\n",
      "degrees: 5, accuracy: 0.737012987\n",
      "degrees: 6, accuracy: 0.688311688\n",
      "degrees: 7, accuracy: 0.737012987\n",
      "degrees: 8, accuracy: 0.681818182\n",
      "degrees: 9, accuracy: 0.714285714\n",
      "-------------\n"
     ]
    }
   ],
   "source": [
    "for value in degrees:\n",
    "    clf = SVC(kernel='poly', degree=value)\n",
    "    clf.fit(inputs_train, outputs_train)\n",
    "    accuracy = clf.score(inputs_test, outputs_test)\n",
    "    print('degrees: {}, accuracy: {:.9f}'.format(value, accuracy))\n",
    "print('-------------')"
   ]
  },
  {
   "cell_type": "markdown",
   "metadata": {},
   "source": [
    "Видно, что при degree=1, точность составляет 77.27%, это уже сопоставимо с результатами линейной и радиальной базисной функциями на этом датасете."
   ]
  },
  {
   "cell_type": "markdown",
   "metadata": {},
   "source": [
    "Параметр gamma используется при функциях ядра poly, sigmoid и rbf. Давайте посмотрим, как его отклонение влияет на точность в каждой из функций ядра."
   ]
  },
  {
   "cell_type": "code",
   "execution_count": 6,
   "metadata": {},
   "outputs": [
    {
     "name": "stdout",
     "output_type": "stream",
     "text": [
      "gammas: 0.05, accuracy: 0.707792208\n",
      "gammas: 0.1, accuracy: 0.750000000\n",
      "gammas: 0.15000000000000002, accuracy: 0.743506494\n",
      "gammas: 0.2, accuracy: 0.740259740\n",
      "gammas: 0.25, accuracy: 0.730519481\n",
      "gammas: 0.3, accuracy: 0.717532468\n",
      "gammas: 0.35000000000000003, accuracy: 0.704545455\n",
      "gammas: 0.4, accuracy: 0.701298701\n",
      "gammas: 0.45, accuracy: 0.707792208\n",
      "gammas: 0.5, accuracy: 0.711038961\n",
      "gammas: 0.55, accuracy: 0.698051948\n",
      "gammas: 0.6000000000000001, accuracy: 0.698051948\n",
      "gammas: 0.6500000000000001, accuracy: 0.691558442\n",
      "gammas: 0.7000000000000001, accuracy: 0.694805195\n",
      "gammas: 0.7500000000000001, accuracy: 0.701298701\n",
      "gammas: 0.8, accuracy: 0.685064935\n",
      "gammas: 0.8500000000000001, accuracy: 0.688311688\n",
      "gammas: 0.9000000000000001, accuracy: 0.688311688\n",
      "gammas: 0.9500000000000001, accuracy: 0.691558442\n",
      "-------------\n"
     ]
    }
   ],
   "source": [
    "for value in gammas:\n",
    "    clf = SVC(kernel='poly', gamma=value)\n",
    "    clf.fit(inputs_train, outputs_train)\n",
    "    accuracy = clf.score(inputs_test, outputs_test)\n",
    "    print('gammas: {}, accuracy: {:.9f}'.format(value, accuracy))\n",
    "print('-------------')"
   ]
  },
  {
   "cell_type": "code",
   "execution_count": 12,
   "metadata": {},
   "outputs": [
    {
     "name": "stdout",
     "output_type": "stream",
     "text": [
      "gammas: 0.05, accuracy: 0.788961039\n",
      "gammas: 0.1, accuracy: 0.772727273\n",
      "gammas: 0.15000000000000002, accuracy: 0.775974026\n",
      "gammas: 0.2, accuracy: 0.766233766\n",
      "gammas: 0.25, accuracy: 0.762987013\n",
      "gammas: 0.3, accuracy: 0.759740260\n",
      "gammas: 0.35000000000000003, accuracy: 0.756493506\n",
      "gammas: 0.4, accuracy: 0.756493506\n",
      "gammas: 0.45, accuracy: 0.753246753\n",
      "gammas: 0.5, accuracy: 0.753246753\n",
      "gammas: 0.55, accuracy: 0.746753247\n",
      "gammas: 0.6000000000000001, accuracy: 0.740259740\n",
      "gammas: 0.6500000000000001, accuracy: 0.737012987\n",
      "gammas: 0.7000000000000001, accuracy: 0.740259740\n",
      "gammas: 0.7500000000000001, accuracy: 0.743506494\n",
      "gammas: 0.8, accuracy: 0.746753247\n",
      "gammas: 0.8500000000000001, accuracy: 0.743506494\n",
      "gammas: 0.9000000000000001, accuracy: 0.740259740\n",
      "gammas: 0.9500000000000001, accuracy: 0.727272727\n",
      "-------------\n"
     ]
    }
   ],
   "source": [
    "for value in gammas:\n",
    "    clf = SVC(kernel='rbf', gamma=value)\n",
    "    clf.fit(inputs_train, outputs_train)\n",
    "    accuracy = clf.score(inputs_test, outputs_test)\n",
    "    print('gammas: {}, accuracy: {:.9f}'.format(value, accuracy))\n",
    "print('-------------')"
   ]
  },
  {
   "cell_type": "code",
   "execution_count": 13,
   "metadata": {},
   "outputs": [
    {
     "name": "stdout",
     "output_type": "stream",
     "text": [
      "gammas: 0.05, accuracy: 0.769480519\n",
      "gammas: 0.1, accuracy: 0.704545455\n",
      "gammas: 0.15000000000000002, accuracy: 0.704545455\n",
      "gammas: 0.2, accuracy: 0.698051948\n",
      "gammas: 0.25, accuracy: 0.668831169\n",
      "gammas: 0.3, accuracy: 0.688311688\n",
      "gammas: 0.35000000000000003, accuracy: 0.691558442\n",
      "gammas: 0.4, accuracy: 0.694805195\n",
      "gammas: 0.45, accuracy: 0.685064935\n",
      "gammas: 0.5, accuracy: 0.675324675\n",
      "gammas: 0.55, accuracy: 0.681818182\n",
      "gammas: 0.6000000000000001, accuracy: 0.685064935\n",
      "gammas: 0.6500000000000001, accuracy: 0.681818182\n",
      "gammas: 0.7000000000000001, accuracy: 0.681818182\n",
      "gammas: 0.7500000000000001, accuracy: 0.678571429\n",
      "gammas: 0.8, accuracy: 0.685064935\n",
      "gammas: 0.8500000000000001, accuracy: 0.675324675\n",
      "gammas: 0.9000000000000001, accuracy: 0.691558442\n",
      "gammas: 0.9500000000000001, accuracy: 0.685064935\n",
      "-------------\n"
     ]
    }
   ],
   "source": [
    "for value in gammas:\n",
    "    clf = SVC(kernel='sigmoid', gamma=value)\n",
    "    clf.fit(inputs_train, outputs_train)\n",
    "    accuracy = clf.score(inputs_test, outputs_test)\n",
    "    print('gammas: {}, accuracy: {:.9f}'.format(value, accuracy))\n",
    "print('-------------')"
   ]
  },
  {
   "cell_type": "markdown",
   "metadata": {},
   "source": [
    "Заметим, что при увеличении параметра гаммы, точность снижается во всех 3 тестах. rbf показал самую большую точность (78.8%), которая превзошла результат линейной функции ядра (77.9%) из первого теста!"
   ]
  },
  {
   "cell_type": "code",
   "execution_count": 7,
   "metadata": {},
   "outputs": [
    {
     "name": "stdout",
     "output_type": "stream",
     "text": [
      "coefs0: 0.0, accuracy: 0.750000000\n",
      "coefs0: 0.1, accuracy: 0.756493506\n",
      "coefs0: 0.2, accuracy: 0.772727273\n",
      "coefs0: 0.30000000000000004, accuracy: 0.766233766\n",
      "coefs0: 0.4, accuracy: 0.762987013\n",
      "coefs0: 0.5, accuracy: 0.762987013\n",
      "coefs0: 0.6000000000000001, accuracy: 0.759740260\n",
      "coefs0: 0.7000000000000001, accuracy: 0.759740260\n",
      "coefs0: 0.8, accuracy: 0.759740260\n",
      "coefs0: 0.9, accuracy: 0.756493506\n"
     ]
    }
   ],
   "source": [
    "for value in coefs0:\n",
    "    clf = SVC(kernel='poly', coef0=value)\n",
    "    clf.fit(inputs_train, outputs_train)\n",
    "    accuracy = clf.score(inputs_test, outputs_test)\n",
    "    print('coefs0: {}, accuracy: {:.9f}'.format(value, accuracy))\n",
    "print('-------------')"
   ]
  },
  {
   "cell_type": "markdown",
   "metadata": {},
   "source": [
    "Самым эффективным из протестированных является параметр coef0=0.3"
   ]
  },
  {
   "cell_type": "code",
   "execution_count": 14,
   "metadata": {},
   "outputs": [
    {
     "name": "stdout",
     "output_type": "stream",
     "text": [
      "probabilities: False, accuracy: 0.772727273\n",
      "probabilities: True, accuracy: 0.772727273\n",
      "-------------\n",
      "shrinkings: False, accuracy: 0.772727273\n",
      "shrinkings: True, accuracy: 0.772727273\n",
      "-------------\n"
     ]
    }
   ],
   "source": [
    "for value in probabilities:\n",
    "    clf = SVC(probability=value)\n",
    "    clf.fit(inputs_train, outputs_train)\n",
    "    accuracy = clf.score(inputs_test, outputs_test)\n",
    "    print('probabilities: {}, accuracy: {:.9f}'.format(value, accuracy))\n",
    "print('-------------')\n",
    "for value in shrinkings:\n",
    "    clf = SVC(shrinking=value)\n",
    "    clf.fit(inputs_train, outputs_train)\n",
    "    accuracy = clf.score(inputs_test, outputs_test)\n",
    "    print('shrinkings: {}, accuracy: {:.9f}'.format(value, accuracy))\n",
    "print('-------------')"
   ]
  },
  {
   "cell_type": "markdown",
   "metadata": {},
   "source": [
    "Изменения параметров shrinking и probability, никак не влияет на результат."
   ]
  },
  {
   "cell_type": "code",
   "execution_count": 15,
   "metadata": {},
   "outputs": [
    {
     "name": "stdout",
     "output_type": "stream",
     "text": [
      "tols: 0.1, accuracy: 0.772727273\n",
      "tols: 0.01, accuracy: 0.772727273\n",
      "tols: 0.001, accuracy: 0.772727273\n",
      "tols: 0.0001, accuracy: 0.772727273\n"
     ]
    }
   ],
   "source": [
    "for value in tols:\n",
    "    clf = SVC(tol=value)\n",
    "    clf.fit(inputs_train, outputs_train)\n",
    "    accuracy = clf.score(inputs_test, outputs_test)\n",
    "    print('tols: {}, accuracy: {:.9f}'.format(value, accuracy))"
   ]
  },
  {
   "cell_type": "markdown",
   "metadata": {},
   "source": [
    "Изменение параметра tol так же никак не влияет на точность."
   ]
  },
  {
   "cell_type": "markdown",
   "metadata": {},
   "source": [
    "Попробуем запустить SVM, задав множество параметров, а не один."
   ]
  },
  {
   "cell_type": "code",
   "execution_count": 39,
   "metadata": {},
   "outputs": [
    {
     "name": "stdout",
     "output_type": "stream",
     "text": [
      "SVC(C=3.1, cache_size=200, class_weight=None, coef0=1.1,\n",
      "  decision_function_shape=None, degree=1, gamma=0.05, kernel='rbf',\n",
      "  max_iter=-1, probability=False, random_state=None, shrinking=True,\n",
      "  tol=0.001, verbose=False)\n",
      "Accuracy: 0.798701299\n"
     ]
    }
   ],
   "source": [
    "clf = SVC(C=3.1, kernel='rbf', degree=1, gamma=0.05, coef0=1.1)\n",
    "clf.fit(inputs_train, outputs_train)\n",
    "accuracy = clf.score(inputs_test, outputs_test)\n",
    "print('{}'.format(clf))\n",
    "print('Accuracy: {:.9f}'.format(accuracy))"
   ]
  },
  {
   "cell_type": "markdown",
   "metadata": {},
   "source": [
    "Путем нехитрых манипуляций получили точность 79.87%, что является рекордом на проведенных тестах."
   ]
  },
  {
   "cell_type": "markdown",
   "metadata": {},
   "source": [
    "## 4. Заключение"
   ]
  },
  {
   "cell_type": "markdown",
   "metadata": {},
   "source": [
    "В ходе лабораторной работы проведены эксперименты и сделаны выводы для текущего набора данных:<br>\n",
    "1. При прочих равных наиболее эффективной оказывается линейная функция ядра.\n",
    "2. При настройке параметров, радиально базисная функция превосходит по точности линейную функцию ядра.\n",
    "3. При прочих равных чем больше параметр penalty, тем ниже точность.\n",
    "4. При увеличении параметра gamma, точность снижается.\n",
    "5. При прочих равных coef0=0.3 показал лучшие результаты.\n",
    "6. Изменения параметров shrinking, probability и tol никак не влияет на точность, однако probability лучше устанавливать False из-за возрастания времени работы при значении True.\n",
    "\n",
    "Очень важной является фраза \"при прочих равных\". Самый последний тест с попыткой максимизировать точность показал высокие результаты при параметрах penalty(C)=3.1 и coef0=1.1, что не соотносится с выводами 3, 5. Соответственно, либо а) выборка \"неудачно\" поделилась, а тесты следует проводить с перекрестной проверкой (KFold), либо б) влияние параметров сильно зависит друг от друга, в таком случае проводить эксперименты, оценивая влияение каждого по-отдельности, некорректно."
   ]
  }
 ],
 "metadata": {
  "kernelspec": {
   "display_name": "Python 3",
   "language": "python",
   "name": "python3"
  },
  "language_info": {
   "codemirror_mode": {
    "name": "ipython",
    "version": 3.0
   },
   "file_extension": ".py",
   "mimetype": "text/x-python",
   "name": "python",
   "nbconvert_exporter": "python",
   "pygments_lexer": "ipython3",
   "version": "3.4.3"
  }
 },
 "nbformat": 4,
 "nbformat_minor": 2
}